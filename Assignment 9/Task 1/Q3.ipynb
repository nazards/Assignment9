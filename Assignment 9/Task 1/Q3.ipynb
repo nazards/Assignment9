{
 "cells": [
  {
   "cell_type": "code",
   "execution_count": 1,
   "metadata": {},
   "outputs": [
    {
     "data": {
      "text/plain": [
       "' 3. In a class on 100 students, 80 students passed in all subjects, 10 failed in one subject, 7 failed\\nin two subjects and 3 failed in three subjects. Find the probability distribution of the variable for\\nnumber of subjects a student from the given class has failed in.'"
      ]
     },
     "execution_count": 1,
     "metadata": {},
     "output_type": "execute_result"
    }
   ],
   "source": [
    "''' 3. In a class on 100 students, 80 students passed in all subjects, 10 failed in one subject, 7 failed\n",
    "in two subjects and 3 failed in three subjects. Find the probability distribution of the variable for\n",
    "number of subjects a student from the given class has failed in.'''"
   ]
  },
  {
   "cell_type": "code",
   "execution_count": 5,
   "metadata": {},
   "outputs": [],
   "source": [
    "import numpy as np\n",
    "import pandas as pd"
   ]
  },
  {
   "cell_type": "code",
   "execution_count": 6,
   "metadata": {},
   "outputs": [
    {
     "name": "stdout",
     "output_type": "stream",
     "text": [
      "Probability formula is  If P(A) > P(B) then event A is more likely to occur than event B\n"
     ]
    }
   ],
   "source": [
    "print(\"Probability formula is  If P(A) > P(B) then event A is more likely to occur than event B\")"
   ]
  },
  {
   "cell_type": "code",
   "execution_count": 7,
   "metadata": {},
   "outputs": [
    {
     "name": "stdout",
     "output_type": "stream",
     "text": [
      "The Solutions is Below\n"
     ]
    }
   ],
   "source": [
    "print(\"The Solutions is Below\")"
   ]
  },
  {
   "cell_type": "code",
   "execution_count": 13,
   "metadata": {},
   "outputs": [
    {
     "name": "stdout",
     "output_type": "stream",
     "text": [
      "The probability of failing in 0 subjects, P(X=0) = 0.8\n",
      "The probability of failing in 1 subjects, P(X=1) = 0.1\n",
      "The probability of failing in 2 subjects, P(X=2) = 0.07\n",
      "The probability of failing in 3 subjects, P(X=3) = 0.03\n"
     ]
    }
   ],
   "source": [
    "print(\"The probability of failing in 0 subjects, P(X=0) = 0.8\")\n",
    "print(\"The probability of failing in 1 subjects, P(X=1) = 0.1\")\n",
    "print(\"The probability of failing in 2 subjects, P(X=2) = 0.07\")\n",
    "print(\"The probability of failing in 3 subjects, P(X=3) = 0.03\")"
   ]
  },
  {
   "cell_type": "code",
   "execution_count": null,
   "metadata": {},
   "outputs": [],
   "source": []
  }
 ],
 "metadata": {
  "kernelspec": {
   "display_name": "Python 3",
   "language": "python",
   "name": "python3"
  },
  "language_info": {
   "codemirror_mode": {
    "name": "ipython",
    "version": 3
   },
   "file_extension": ".py",
   "mimetype": "text/x-python",
   "name": "python",
   "nbconvert_exporter": "python",
   "pygments_lexer": "ipython3",
   "version": "3.7.0"
  }
 },
 "nbformat": 4,
 "nbformat_minor": 2
}
